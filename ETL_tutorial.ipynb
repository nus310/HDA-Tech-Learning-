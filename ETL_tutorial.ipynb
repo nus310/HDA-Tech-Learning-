{
 "cells": [
  {
   "cell_type": "markdown",
   "id": "831d6e3c",
   "metadata": {},
   "source": [
    "# Package installation"
   ]
  },
  {
   "cell_type": "code",
   "execution_count": 1,
   "id": "6b530ac8",
   "metadata": {},
   "outputs": [
    {
     "name": "stdout",
     "output_type": "stream",
     "text": [
      "Collecting psycopg2\n",
      "  Downloading psycopg2-2.9.6-cp39-cp39-win_amd64.whl (1.2 MB)\n",
      "Installing collected packages: psycopg2\n",
      "Successfully installed psycopg2-2.9.6\n",
      "Note: you may need to restart the kernel to use updated packages.\n"
     ]
    }
   ],
   "source": [
    "pip install psycopg2"
   ]
  },
  {
   "cell_type": "code",
   "execution_count": 2,
   "id": "dd7cc275",
   "metadata": {},
   "outputs": [
    {
     "name": "stdout",
     "output_type": "stream",
     "text": [
      "Requirement already satisfied: pandas in c:\\users\\user\\anaconda3\\lib\\site-packages (1.4.2)\n",
      "Requirement already satisfied: python-dateutil>=2.8.1 in c:\\users\\user\\anaconda3\\lib\\site-packages (from pandas) (2.8.2)\n",
      "Requirement already satisfied: numpy>=1.18.5 in c:\\users\\user\\anaconda3\\lib\\site-packages (from pandas) (1.22.4)\n",
      "Requirement already satisfied: pytz>=2020.1 in c:\\users\\user\\anaconda3\\lib\\site-packages (from pandas) (2021.3)\n",
      "Requirement already satisfied: six>=1.5 in c:\\users\\user\\anaconda3\\lib\\site-packages (from python-dateutil>=2.8.1->pandas) (1.16.0)\n",
      "Note: you may need to restart the kernel to use updated packages.\n"
     ]
    }
   ],
   "source": [
    "# pip install pandas"
   ]
  },
  {
   "cell_type": "code",
   "execution_count": 3,
   "id": "a933c7dd",
   "metadata": {},
   "outputs": [
    {
     "name": "stdout",
     "output_type": "stream",
     "text": [
      "Requirement already satisfied: openpyxl in c:\\users\\user\\anaconda3\\lib\\site-packages (3.0.9)\n",
      "Requirement already satisfied: et-xmlfile in c:\\users\\user\\anaconda3\\lib\\site-packages (from openpyxl) (1.1.0)\n",
      "Note: you may need to restart the kernel to use updated packages.\n"
     ]
    }
   ],
   "source": [
    "pip install openpyxl"
   ]
  },
  {
   "cell_type": "markdown",
   "id": "87820885",
   "metadata": {},
   "source": [
    "# Package call"
   ]
  },
  {
   "cell_type": "code",
   "execution_count": 1,
   "id": "158a72f6",
   "metadata": {},
   "outputs": [],
   "source": [
    "import psycopg2\n",
    "import pandas as pd\n",
    "import psycopg2.extras"
   ]
  },
  {
   "cell_type": "markdown",
   "id": "29e316db",
   "metadata": {},
   "source": [
    "# Extract\n",
    "*Read from excel file*"
   ]
  },
  {
   "cell_type": "code",
   "execution_count": 9,
   "id": "d3196d4a",
   "metadata": {},
   "outputs": [],
   "source": [
    "DATA_DIR = \"E:/MSc/SUMMER_2023/CSE512-Database/ASSIGNMENTS/\"\n",
    "\n"
   ]
  },
  {
   "cell_type": "code",
   "execution_count": 10,
   "id": "e4e46cbc",
   "metadata": {},
   "outputs": [],
   "source": [
    "fact_table = pd.read_excel(open(DATA_DIR + 'e-commerece_data.xlsx','rb'), sheet_name=0, engine='openpyxl')"
   ]
  },
  {
   "cell_type": "code",
   "execution_count": 11,
   "id": "6165ee19",
   "metadata": {},
   "outputs": [],
   "source": [
    "trans_dim = pd.read_excel(open(DATA_DIR + 'e-commerece_data.xlsx','rb'), sheet_name=1, engine='openpyxl')\n",
    "item_dim = pd.read_excel(open(DATA_DIR + 'e-commerece_data.xlsx','rb'), sheet_name=2, engine='openpyxl')\n",
    "coustomer_dim = pd.read_excel(open(DATA_DIR + 'e-commerece_data.xlsx','rb'), sheet_name=3, engine='openpyxl')\n",
    "time_dim = pd.read_excel(open(DATA_DIR + 'e-commerece_data.xlsx','rb'), sheet_name=4, engine='openpyxl')\n",
    "store_dim = pd.read_excel(open(DATA_DIR + 'e-commerece_data.xlsx','rb'), sheet_name=5, engine='openpyxl')"
   ]
  },
  {
   "cell_type": "code",
   "execution_count": 12,
   "id": "14316951",
   "metadata": {},
   "outputs": [
    {
     "data": {
      "text/html": [
       "<div>\n",
       "<style scoped>\n",
       "    .dataframe tbody tr th:only-of-type {\n",
       "        vertical-align: middle;\n",
       "    }\n",
       "\n",
       "    .dataframe tbody tr th {\n",
       "        vertical-align: top;\n",
       "    }\n",
       "\n",
       "    .dataframe thead th {\n",
       "        text-align: right;\n",
       "    }\n",
       "</style>\n",
       "<table border=\"1\" class=\"dataframe\">\n",
       "  <thead>\n",
       "    <tr style=\"text-align: right;\">\n",
       "      <th></th>\n",
       "      <th>payment_key</th>\n",
       "      <th>trans_type</th>\n",
       "      <th>bank_name</th>\n",
       "    </tr>\n",
       "  </thead>\n",
       "  <tbody>\n",
       "    <tr>\n",
       "      <th>0</th>\n",
       "      <td>P001</td>\n",
       "      <td>cash</td>\n",
       "      <td>None</td>\n",
       "    </tr>\n",
       "    <tr>\n",
       "      <th>1</th>\n",
       "      <td>P002</td>\n",
       "      <td>card</td>\n",
       "      <td>AB Bank Limited</td>\n",
       "    </tr>\n",
       "    <tr>\n",
       "      <th>2</th>\n",
       "      <td>P003</td>\n",
       "      <td>card</td>\n",
       "      <td>Bangladesh Commerce Bank Limited</td>\n",
       "    </tr>\n",
       "    <tr>\n",
       "      <th>3</th>\n",
       "      <td>P004</td>\n",
       "      <td>card</td>\n",
       "      <td>Bank Asia Limited</td>\n",
       "    </tr>\n",
       "    <tr>\n",
       "      <th>4</th>\n",
       "      <td>P005</td>\n",
       "      <td>card</td>\n",
       "      <td>BRAC Bank Limited</td>\n",
       "    </tr>\n",
       "    <tr>\n",
       "      <th>5</th>\n",
       "      <td>P006</td>\n",
       "      <td>card</td>\n",
       "      <td>Citizens Bank Limited</td>\n",
       "    </tr>\n",
       "    <tr>\n",
       "      <th>6</th>\n",
       "      <td>P007</td>\n",
       "      <td>card</td>\n",
       "      <td>City Bank Limited</td>\n",
       "    </tr>\n",
       "    <tr>\n",
       "      <th>7</th>\n",
       "      <td>P008</td>\n",
       "      <td>card</td>\n",
       "      <td>Community Bank Bangladesh Limited</td>\n",
       "    </tr>\n",
       "    <tr>\n",
       "      <th>8</th>\n",
       "      <td>P009</td>\n",
       "      <td>card</td>\n",
       "      <td>Dhaka Bank Limited</td>\n",
       "    </tr>\n",
       "    <tr>\n",
       "      <th>9</th>\n",
       "      <td>P010</td>\n",
       "      <td>card</td>\n",
       "      <td>Dutch-Bangla Bank Limited</td>\n",
       "    </tr>\n",
       "    <tr>\n",
       "      <th>10</th>\n",
       "      <td>P011</td>\n",
       "      <td>card</td>\n",
       "      <td>Eastern Bank Limited</td>\n",
       "    </tr>\n",
       "    <tr>\n",
       "      <th>11</th>\n",
       "      <td>P012</td>\n",
       "      <td>card</td>\n",
       "      <td>IFIC Bank Limited</td>\n",
       "    </tr>\n",
       "    <tr>\n",
       "      <th>12</th>\n",
       "      <td>P013</td>\n",
       "      <td>card</td>\n",
       "      <td>Jamuna Bank Limited</td>\n",
       "    </tr>\n",
       "    <tr>\n",
       "      <th>13</th>\n",
       "      <td>P014</td>\n",
       "      <td>card</td>\n",
       "      <td>Meghna Bank Limited</td>\n",
       "    </tr>\n",
       "    <tr>\n",
       "      <th>14</th>\n",
       "      <td>P015</td>\n",
       "      <td>card</td>\n",
       "      <td>Mercantile Bank Limited</td>\n",
       "    </tr>\n",
       "    <tr>\n",
       "      <th>15</th>\n",
       "      <td>P016</td>\n",
       "      <td>card</td>\n",
       "      <td>Midland Bank Limited</td>\n",
       "    </tr>\n",
       "    <tr>\n",
       "      <th>16</th>\n",
       "      <td>P017</td>\n",
       "      <td>card</td>\n",
       "      <td>Modhumoti Bank Limited</td>\n",
       "    </tr>\n",
       "    <tr>\n",
       "      <th>17</th>\n",
       "      <td>P018</td>\n",
       "      <td>card</td>\n",
       "      <td>Mutual Trust Bank Limited</td>\n",
       "    </tr>\n",
       "    <tr>\n",
       "      <th>18</th>\n",
       "      <td>P019</td>\n",
       "      <td>card</td>\n",
       "      <td>National Bank Limited</td>\n",
       "    </tr>\n",
       "    <tr>\n",
       "      <th>19</th>\n",
       "      <td>P020</td>\n",
       "      <td>card</td>\n",
       "      <td>National Credit &amp; Commerce Bank Limited</td>\n",
       "    </tr>\n",
       "    <tr>\n",
       "      <th>20</th>\n",
       "      <td>P021</td>\n",
       "      <td>card</td>\n",
       "      <td>NRB Bank Limited</td>\n",
       "    </tr>\n",
       "    <tr>\n",
       "      <th>21</th>\n",
       "      <td>P022</td>\n",
       "      <td>card</td>\n",
       "      <td>NRB Commercial Bank Ltd</td>\n",
       "    </tr>\n",
       "    <tr>\n",
       "      <th>22</th>\n",
       "      <td>P023</td>\n",
       "      <td>card</td>\n",
       "      <td>NRB Global Bank Ltd</td>\n",
       "    </tr>\n",
       "    <tr>\n",
       "      <th>23</th>\n",
       "      <td>P024</td>\n",
       "      <td>card</td>\n",
       "      <td>One Bank Limited</td>\n",
       "    </tr>\n",
       "    <tr>\n",
       "      <th>24</th>\n",
       "      <td>P025</td>\n",
       "      <td>card</td>\n",
       "      <td>Padma Bank Limited</td>\n",
       "    </tr>\n",
       "    <tr>\n",
       "      <th>25</th>\n",
       "      <td>P026</td>\n",
       "      <td>card</td>\n",
       "      <td>Premier Bank Limited</td>\n",
       "    </tr>\n",
       "    <tr>\n",
       "      <th>26</th>\n",
       "      <td>P027</td>\n",
       "      <td>card</td>\n",
       "      <td>Prime Bank Limited</td>\n",
       "    </tr>\n",
       "    <tr>\n",
       "      <th>27</th>\n",
       "      <td>P028</td>\n",
       "      <td>card</td>\n",
       "      <td>Pubali Bank Limited</td>\n",
       "    </tr>\n",
       "    <tr>\n",
       "      <th>28</th>\n",
       "      <td>P029</td>\n",
       "      <td>card</td>\n",
       "      <td>Standard Bank Limited</td>\n",
       "    </tr>\n",
       "    <tr>\n",
       "      <th>29</th>\n",
       "      <td>P030</td>\n",
       "      <td>card</td>\n",
       "      <td>Shimanto Bank Ltd</td>\n",
       "    </tr>\n",
       "    <tr>\n",
       "      <th>30</th>\n",
       "      <td>P031</td>\n",
       "      <td>card</td>\n",
       "      <td>Southeast Bank Limited</td>\n",
       "    </tr>\n",
       "    <tr>\n",
       "      <th>31</th>\n",
       "      <td>P032</td>\n",
       "      <td>card</td>\n",
       "      <td>South Bangla Agriculture and Commerce Bank Lim...</td>\n",
       "    </tr>\n",
       "    <tr>\n",
       "      <th>32</th>\n",
       "      <td>P033</td>\n",
       "      <td>card</td>\n",
       "      <td>Trust Bank Limited</td>\n",
       "    </tr>\n",
       "    <tr>\n",
       "      <th>33</th>\n",
       "      <td>P034</td>\n",
       "      <td>card</td>\n",
       "      <td>United Commercial Bank Ltd</td>\n",
       "    </tr>\n",
       "    <tr>\n",
       "      <th>34</th>\n",
       "      <td>P035</td>\n",
       "      <td>card</td>\n",
       "      <td>Uttara Bank Limited</td>\n",
       "    </tr>\n",
       "    <tr>\n",
       "      <th>35</th>\n",
       "      <td>P036</td>\n",
       "      <td>card</td>\n",
       "      <td>Bengal Commercial Bank Ltd</td>\n",
       "    </tr>\n",
       "    <tr>\n",
       "      <th>36</th>\n",
       "      <td>P037</td>\n",
       "      <td>mobile</td>\n",
       "      <td>Bkash</td>\n",
       "    </tr>\n",
       "    <tr>\n",
       "      <th>37</th>\n",
       "      <td>P038</td>\n",
       "      <td>mobile</td>\n",
       "      <td>Rocket</td>\n",
       "    </tr>\n",
       "    <tr>\n",
       "      <th>38</th>\n",
       "      <td>P039</td>\n",
       "      <td>mobile</td>\n",
       "      <td>Nagad</td>\n",
       "    </tr>\n",
       "  </tbody>\n",
       "</table>\n",
       "</div>"
      ],
      "text/plain": [
       "   payment_key trans_type                                          bank_name\n",
       "0         P001       cash                                               None\n",
       "1         P002       card                                    AB Bank Limited\n",
       "2         P003       card                   Bangladesh Commerce Bank Limited\n",
       "3         P004       card                                  Bank Asia Limited\n",
       "4         P005       card                                  BRAC Bank Limited\n",
       "5         P006       card                              Citizens Bank Limited\n",
       "6         P007       card                                  City Bank Limited\n",
       "7         P008       card                  Community Bank Bangladesh Limited\n",
       "8         P009       card                                 Dhaka Bank Limited\n",
       "9         P010       card                          Dutch-Bangla Bank Limited\n",
       "10        P011       card                               Eastern Bank Limited\n",
       "11        P012       card                                  IFIC Bank Limited\n",
       "12        P013       card                                Jamuna Bank Limited\n",
       "13        P014       card                                Meghna Bank Limited\n",
       "14        P015       card                            Mercantile Bank Limited\n",
       "15        P016       card                               Midland Bank Limited\n",
       "16        P017       card                             Modhumoti Bank Limited\n",
       "17        P018       card                          Mutual Trust Bank Limited\n",
       "18        P019       card                              National Bank Limited\n",
       "19        P020       card            National Credit & Commerce Bank Limited\n",
       "20        P021       card                                   NRB Bank Limited\n",
       "21        P022       card                            NRB Commercial Bank Ltd\n",
       "22        P023       card                                NRB Global Bank Ltd\n",
       "23        P024       card                                   One Bank Limited\n",
       "24        P025       card                                 Padma Bank Limited\n",
       "25        P026       card                               Premier Bank Limited\n",
       "26        P027       card                                 Prime Bank Limited\n",
       "27        P028       card                                Pubali Bank Limited\n",
       "28        P029       card                              Standard Bank Limited\n",
       "29        P030       card                                  Shimanto Bank Ltd\n",
       "30        P031       card                             Southeast Bank Limited\n",
       "31        P032       card  South Bangla Agriculture and Commerce Bank Lim...\n",
       "32        P033       card                                 Trust Bank Limited\n",
       "33        P034       card                         United Commercial Bank Ltd\n",
       "34        P035       card                                Uttara Bank Limited\n",
       "35        P036       card                         Bengal Commercial Bank Ltd\n",
       "36        P037     mobile                                              Bkash\n",
       "37        P038     mobile                                             Rocket\n",
       "38        P039     mobile                                              Nagad"
      ]
     },
     "execution_count": 12,
     "metadata": {},
     "output_type": "execute_result"
    }
   ],
   "source": [
    "trans_dim"
   ]
  },
  {
   "cell_type": "code",
   "execution_count": 13,
   "id": "5d733b96",
   "metadata": {},
   "outputs": [
    {
     "data": {
      "text/html": [
       "<div>\n",
       "<style scoped>\n",
       "    .dataframe tbody tr th:only-of-type {\n",
       "        vertical-align: middle;\n",
       "    }\n",
       "\n",
       "    .dataframe tbody tr th {\n",
       "        vertical-align: top;\n",
       "    }\n",
       "\n",
       "    .dataframe thead th {\n",
       "        text-align: right;\n",
       "    }\n",
       "</style>\n",
       "<table border=\"1\" class=\"dataframe\">\n",
       "  <thead>\n",
       "    <tr style=\"text-align: right;\">\n",
       "      <th></th>\n",
       "      <th>item_key</th>\n",
       "      <th>item_name</th>\n",
       "      <th>desc</th>\n",
       "      <th>unit_price</th>\n",
       "      <th>man_country</th>\n",
       "      <th>supplier</th>\n",
       "      <th>unit</th>\n",
       "    </tr>\n",
       "  </thead>\n",
       "  <tbody>\n",
       "    <tr>\n",
       "      <th>0</th>\n",
       "      <td>I00001</td>\n",
       "      <td>A&amp;W Root Beer - 12 oz cans</td>\n",
       "      <td>a. Beverage - Soda</td>\n",
       "      <td>11.50</td>\n",
       "      <td>Netherlands</td>\n",
       "      <td>Bolsius Boxmeer</td>\n",
       "      <td>cans</td>\n",
       "    </tr>\n",
       "    <tr>\n",
       "      <th>1</th>\n",
       "      <td>I00002</td>\n",
       "      <td>A&amp;W Root Beer Diet - 12 oz cans</td>\n",
       "      <td>a. Beverage - Soda</td>\n",
       "      <td>6.75</td>\n",
       "      <td>poland</td>\n",
       "      <td>CHROMADURLIN S.A.S</td>\n",
       "      <td>cans</td>\n",
       "    </tr>\n",
       "    <tr>\n",
       "      <th>2</th>\n",
       "      <td>I00003</td>\n",
       "      <td>Barq's Root Beer - 12 oz cans</td>\n",
       "      <td>a. Beverage - Soda</td>\n",
       "      <td>6.75</td>\n",
       "      <td>Bangladesh</td>\n",
       "      <td>DENIMACH LTD</td>\n",
       "      <td>cans</td>\n",
       "    </tr>\n",
       "    <tr>\n",
       "      <th>3</th>\n",
       "      <td>I00004</td>\n",
       "      <td>Cherry Coke 12oz</td>\n",
       "      <td>a. Beverage - Soda</td>\n",
       "      <td>6.75</td>\n",
       "      <td>Netherlands</td>\n",
       "      <td>Bolsius Boxmeer</td>\n",
       "      <td>cans</td>\n",
       "    </tr>\n",
       "    <tr>\n",
       "      <th>4</th>\n",
       "      <td>I00005</td>\n",
       "      <td>Cherry Coke Zero 12 pack</td>\n",
       "      <td>a. Beverage - Soda</td>\n",
       "      <td>6.75</td>\n",
       "      <td>Finland</td>\n",
       "      <td>HARDFORD AB</td>\n",
       "      <td>cans</td>\n",
       "    </tr>\n",
       "    <tr>\n",
       "      <th>...</th>\n",
       "      <td>...</td>\n",
       "      <td>...</td>\n",
       "      <td>...</td>\n",
       "      <td>...</td>\n",
       "      <td>...</td>\n",
       "      <td>...</td>\n",
       "      <td>...</td>\n",
       "    </tr>\n",
       "    <tr>\n",
       "      <th>259</th>\n",
       "      <td>I00260</td>\n",
       "      <td>Napkins Square Lunch</td>\n",
       "      <td>Kitchen Supplies</td>\n",
       "      <td>15.00</td>\n",
       "      <td>Cambodia</td>\n",
       "      <td>NINGBO SEDUNO IMP &amp; EXP CO.LTD</td>\n",
       "      <td>ct</td>\n",
       "    </tr>\n",
       "    <tr>\n",
       "      <th>260</th>\n",
       "      <td>I00261</td>\n",
       "      <td>POM 2 ply paper towels</td>\n",
       "      <td>Kitchen Supplies</td>\n",
       "      <td>33.00</td>\n",
       "      <td>Lithuania</td>\n",
       "      <td>BIGSO AB</td>\n",
       "      <td>ct</td>\n",
       "    </tr>\n",
       "    <tr>\n",
       "      <th>261</th>\n",
       "      <td>I00262</td>\n",
       "      <td>Strong Everyday Napkins</td>\n",
       "      <td>Kitchen Supplies</td>\n",
       "      <td>14.00</td>\n",
       "      <td>Netherlands</td>\n",
       "      <td>Bolsius Boxmeer</td>\n",
       "      <td>ct</td>\n",
       "    </tr>\n",
       "    <tr>\n",
       "      <th>262</th>\n",
       "      <td>I00263</td>\n",
       "      <td>Advil 2 pill packets</td>\n",
       "      <td>Medicine</td>\n",
       "      <td>14.00</td>\n",
       "      <td>Lithuania</td>\n",
       "      <td>BIGSO AB</td>\n",
       "      <td>Ct</td>\n",
       "    </tr>\n",
       "    <tr>\n",
       "      <th>263</th>\n",
       "      <td>I00264</td>\n",
       "      <td>Tylenol Extra Strength 2 pill packets</td>\n",
       "      <td>Medicine</td>\n",
       "      <td>15.00</td>\n",
       "      <td>India</td>\n",
       "      <td>Indo Count Industries Ltd</td>\n",
       "      <td>Ct</td>\n",
       "    </tr>\n",
       "  </tbody>\n",
       "</table>\n",
       "<p>264 rows × 7 columns</p>\n",
       "</div>"
      ],
      "text/plain": [
       "    item_key                              item_name                desc  \\\n",
       "0     I00001             A&W Root Beer - 12 oz cans  a. Beverage - Soda   \n",
       "1     I00002        A&W Root Beer Diet - 12 oz cans  a. Beverage - Soda   \n",
       "2     I00003          Barq's Root Beer - 12 oz cans  a. Beverage - Soda   \n",
       "3     I00004                       Cherry Coke 12oz  a. Beverage - Soda   \n",
       "4     I00005               Cherry Coke Zero 12 pack  a. Beverage - Soda   \n",
       "..       ...                                    ...                 ...   \n",
       "259   I00260                   Napkins Square Lunch    Kitchen Supplies   \n",
       "260   I00261                 POM 2 ply paper towels    Kitchen Supplies   \n",
       "261   I00262                Strong Everyday Napkins    Kitchen Supplies   \n",
       "262   I00263                   Advil 2 pill packets            Medicine   \n",
       "263   I00264  Tylenol Extra Strength 2 pill packets            Medicine   \n",
       "\n",
       "     unit_price  man_country                        supplier  unit  \n",
       "0         11.50  Netherlands                 Bolsius Boxmeer  cans  \n",
       "1          6.75       poland              CHROMADURLIN S.A.S  cans  \n",
       "2          6.75   Bangladesh                    DENIMACH LTD  cans  \n",
       "3          6.75  Netherlands                 Bolsius Boxmeer  cans  \n",
       "4          6.75      Finland                     HARDFORD AB  cans  \n",
       "..          ...          ...                             ...   ...  \n",
       "259       15.00     Cambodia  NINGBO SEDUNO IMP & EXP CO.LTD    ct  \n",
       "260       33.00    Lithuania                        BIGSO AB    ct  \n",
       "261       14.00  Netherlands                 Bolsius Boxmeer    ct  \n",
       "262       14.00    Lithuania                        BIGSO AB    Ct  \n",
       "263       15.00        India       Indo Count Industries Ltd    Ct  \n",
       "\n",
       "[264 rows x 7 columns]"
      ]
     },
     "execution_count": 13,
     "metadata": {},
     "output_type": "execute_result"
    }
   ],
   "source": [
    "item_dim"
   ]
  },
  {
   "cell_type": "code",
   "execution_count": 14,
   "id": "703d9368",
   "metadata": {},
   "outputs": [
    {
     "data": {
      "text/plain": [
       "item_key        object\n",
       "item_name       object\n",
       "desc            object\n",
       "unit_price     float64\n",
       "man_country     object\n",
       "supplier        object\n",
       "unit            object\n",
       "dtype: object"
      ]
     },
     "execution_count": 14,
     "metadata": {},
     "output_type": "execute_result"
    }
   ],
   "source": [
    "item_dim.dtypes"
   ]
  },
  {
   "cell_type": "code",
   "execution_count": 15,
   "id": "4d7cc8b9",
   "metadata": {},
   "outputs": [
    {
     "ename": "NameError",
     "evalue": "name 'Coustomer_dim' is not defined",
     "output_type": "error",
     "traceback": [
      "\u001b[1;31m---------------------------------------------------------------------------\u001b[0m",
      "\u001b[1;31mNameError\u001b[0m                                 Traceback (most recent call last)",
      "Input \u001b[1;32mIn [15]\u001b[0m, in \u001b[0;36m<cell line: 1>\u001b[1;34m()\u001b[0m\n\u001b[1;32m----> 1\u001b[0m \u001b[43mCoustomer_dim\u001b[49m\n",
      "\u001b[1;31mNameError\u001b[0m: name 'Coustomer_dim' is not defined"
     ]
    }
   ],
   "source": [
    "# Coustomer_dim"
   ]
  },
  {
   "cell_type": "code",
   "execution_count": null,
   "id": "cc65701b",
   "metadata": {},
   "outputs": [],
   "source": [
    "time_dim"
   ]
  },
  {
   "cell_type": "code",
   "execution_count": null,
   "id": "2dedc6dd",
   "metadata": {},
   "outputs": [],
   "source": [
    "store_dim"
   ]
  },
  {
   "cell_type": "markdown",
   "id": "904021f8",
   "metadata": {},
   "source": [
    "## Transform"
   ]
  },
  {
   "cell_type": "code",
   "execution_count": null,
   "id": "6ee414fa",
   "metadata": {},
   "outputs": [],
   "source": [
    "item_dim['unit_price'] = pd.to_numeric(item_dim['unit_price'])\n",
    "item_dim.dtypes"
   ]
  },
  {
   "cell_type": "code",
   "execution_count": null,
   "id": "3286dd8c",
   "metadata": {},
   "outputs": [],
   "source": [
    "time_dim['date'] = time_dim['date'].astype('datetime64[ns]')\n",
    "# time_dim.dtypes\n",
    "time_dim"
   ]
  },
  {
   "cell_type": "code",
   "execution_count": null,
   "id": "37f65003",
   "metadata": {},
   "outputs": [],
   "source": [
    "fact_table"
   ]
  },
  {
   "cell_type": "code",
   "execution_count": null,
   "id": "d85acdb9",
   "metadata": {},
   "outputs": [],
   "source": [
    "fact_table['unit_price'] = pd.to_numeric(fact_table['unit_price'])\n",
    "fact_table['total_price'] = pd.to_numeric(fact_table['total_price'])\n",
    "fact_table"
   ]
  },
  {
   "cell_type": "markdown",
   "id": "649ab51e",
   "metadata": {},
   "source": [
    "# Load\n",
    "*Connect to the database*"
   ]
  },
  {
   "cell_type": "code",
   "execution_count": null,
   "id": "81a271ea",
   "metadata": {},
   "outputs": [],
   "source": [
    "class PostgresConnection(object):\n",
    "    def __init__(self):\n",
    "        self.connection = psycopg2.connect(database=\"postgres\",\n",
    "                                           user = \"postgres\",\n",
    "                                           password = \"nusrat0405\",\n",
    "                                           host = \"localhost\",\n",
    "                                           port = \"5432\")\n",
    "\n",
    "    def getConnection(self):\n",
    "        print(\"successfully connected to database\")\n",
    "        return self.connection"
   ]
  },
  {
   "cell_type": "code",
   "execution_count": null,
   "id": "42ec6f86",
   "metadata": {},
   "outputs": [],
   "source": [
    "con = PostgresConnection().getConnection()"
   ]
  },
  {
   "cell_type": "code",
   "execution_count": null,
   "id": "4c4c8e63",
   "metadata": {},
   "outputs": [],
   "source": []
  },
  {
   "cell_type": "markdown",
   "id": "3d5c38b7",
   "metadata": {},
   "source": [
    "### TRANS_DIM"
   ]
  },
  {
   "cell_type": "code",
   "execution_count": null,
   "id": "9ebd1070",
   "metadata": {
    "scrolled": true
   },
   "outputs": [],
   "source": [
    "insert_stmt = \"INSERT INTO ecomdb.trans_dim( payment_key, trans_type, bank_name)\" \\\n",
    "            \" VALUES (%s, %s, %s)\"\n",
    "cur = con.cursor()\n",
    "psycopg2.extras.execute_batch(cur, insert_stmt, trans_dim.values)\n",
    "con.commit()\n",
    "cur.close()"
   ]
  },
  {
   "cell_type": "markdown",
   "id": "6a13829f",
   "metadata": {},
   "source": [
    "### ITEM_DIM"
   ]
  },
  {
   "cell_type": "code",
   "execution_count": null,
   "id": "6ad027af",
   "metadata": {
    "scrolled": true
   },
   "outputs": [],
   "source": [
    "con = PostgresConnection().getConnection()\n",
    "insert_stmt = \"INSERT INTO ecomdb.item_dim(item_key, item_name, description, unit_price, man_country, supplier, unit)\"\\\n",
    "              \" VALUES(%s, %s, %s, %s, %s, %s, %s)\"\n",
    "cur = con.cursor()\n",
    "psycopg2.extras.execute_batch(cur, insert_stmt, item_dim.values)\n",
    "con.commit()\n",
    "cur.close()"
   ]
  },
  {
   "cell_type": "markdown",
   "id": "7b3ba867",
   "metadata": {},
   "source": [
    "### COUSTOMER_DIM"
   ]
  },
  {
   "cell_type": "code",
   "execution_count": null,
   "id": "f9fe4467",
   "metadata": {},
   "outputs": [],
   "source": [
    "con = PostgresConnection().getConnection()\n",
    "insert_stmt = \"INSERT INTO ecomdb.coustomer_dim(coustomer_key, name, contact_no, nid)\"\\\n",
    "                \"VALUES (%s, %s, %s, %s)\"\n",
    "cur = con.cursor()\n",
    "psycopg2.extras.execute_batch(cur, insert_stmt, coustomer_dim.values)\n",
    "con.commit()\n",
    "cur.close()"
   ]
  },
  {
   "cell_type": "markdown",
   "id": "c3a1634d",
   "metadata": {},
   "source": [
    "### TIME_DIM"
   ]
  },
  {
   "cell_type": "code",
   "execution_count": null,
   "id": "9fad4222",
   "metadata": {},
   "outputs": [],
   "source": [
    "con = PostgresConnection().getConnection()\n",
    "insert_stmt = \"INSERT INTO ecomdb.time_dim(time_key, date_t, hour, day, week, month, quarter, year)VALUES (%s, %s, %s, %s, %s, %s, %s, %s);\"\n",
    "cur = con.cursor()\n",
    "psycopg2.extras.execute_batch(cur, insert_stmt, time_dim.values)\n",
    "con.commit()\n",
    "cur.close()"
   ]
  },
  {
   "cell_type": "markdown",
   "id": "cd02c27d",
   "metadata": {},
   "source": [
    "### STORE_DIM"
   ]
  },
  {
   "cell_type": "code",
   "execution_count": null,
   "id": "200ae19c",
   "metadata": {},
   "outputs": [],
   "source": [
    "con = PostgresConnection().getConnection()\n",
    "insert_stmt = \"INSERT INTO ecomdb.store_dim( store_key, division, district, upazila)\" \\\n",
    "               \" VALUES (%s, %s, %s, %s);\"\n",
    "cur = con.cursor()\n",
    "psycopg2.extras.execute_batch(cur, insert_stmt, store_dim.values)\n",
    "con.commit()\n",
    "cur.close()"
   ]
  },
  {
   "cell_type": "markdown",
   "id": "e8ccbbf9",
   "metadata": {},
   "source": [
    "### FACT_TABLE"
   ]
  },
  {
   "cell_type": "code",
   "execution_count": null,
   "id": "a844b0ac",
   "metadata": {},
   "outputs": [],
   "source": [
    "insert_stmt = \"INSERT INTO ecomdb.fact_table( payment_key, coustomer_key, time_key, item_key, store_key, quantity, unit, unit_price, total_price)\" \\\n",
    "            \" VALUES (%s, %s, %s, %s, %s, %s, %s, %s, %s)\"\n",
    "cur = con.cursor()\n",
    "psycopg2.extras.execute_batch(cur, insert_stmt, fact_table.values)\n",
    "con.commit()\n",
    "cur.close()"
   ]
  },
  {
   "cell_type": "code",
   "execution_count": null,
   "id": "144dd61c",
   "metadata": {},
   "outputs": [],
   "source": []
  },
  {
   "cell_type": "code",
   "execution_count": null,
   "id": "65ec161c",
   "metadata": {},
   "outputs": [],
   "source": []
  },
  {
   "cell_type": "code",
   "execution_count": null,
   "id": "62e2f140",
   "metadata": {},
   "outputs": [],
   "source": []
  },
  {
   "cell_type": "code",
   "execution_count": null,
   "id": "6519f152",
   "metadata": {},
   "outputs": [],
   "source": []
  },
  {
   "cell_type": "code",
   "execution_count": null,
   "id": "14261cfe",
   "metadata": {},
   "outputs": [],
   "source": []
  },
  {
   "cell_type": "code",
   "execution_count": null,
   "id": "6d0e1371",
   "metadata": {},
   "outputs": [],
   "source": []
  },
  {
   "cell_type": "code",
   "execution_count": null,
   "id": "331a1eb4",
   "metadata": {},
   "outputs": [],
   "source": [
    "# - ****************************** SqlDBM: PostgreSQL *****************************\n",
    "# -- * Generated by SqlDBM: Untitled Project, v13 by nusrat.islam10@northsouth.edu *\n",
    "\n",
    "\n",
    "\n",
    "# -- ************************************** ecomdb.Fact_table\n",
    "\n",
    "# CREATE TABLE ecomdb.Fact_table\n",
    "# (\n",
    "#  payment_key     varchar(20) NOT NULL,\n",
    "#  coustomer_key   varchar(20) NOT NULL,\n",
    "#  time_key        varchar(20) NOT NULL,\n",
    "#  item_key        varchar(20) NOT NULL,\n",
    "#  store_key       varchar(20) NOT NULL,\n",
    "#  quantity        integer NOT NULL,\n",
    "#  unit            varchar(30) NOT NULL,\n",
    "#  unit_price      double precision NOT NULL,\n",
    "#  total_price     double precision NOT NULL,\n",
    "# --  payment_key_1   varchar(20) NOT NULL,\n",
    "# --  item_key_1      varchar(20) NOT NULL,\n",
    "# --  coustomer_key_1 varchar(20) NOT NULL,\n",
    "# --  time_key_1      varchar(20) NOT NULL,\n",
    "# --  store_key_1     varchar(20) NOT NULL,\n",
    "#  CONSTRAINT PK_1_Fact_table PRIMARY KEY ( payment_key, coustomer_key, time_key, item_key, store_key ),\n",
    "#  CONSTRAINT FK_1 FOREIGN KEY ( payment_key ) REFERENCES ecomdb.trans_dim ( payment_key ),\n",
    "#  CONSTRAINT FK_2 FOREIGN KEY ( item_key ) REFERENCES ecomdb.item_dim ( item_key ),\n",
    "#  CONSTRAINT FK_3 FOREIGN KEY ( coustomer_key ) REFERENCES ecomdb.coustomer_dim ( coustomer_key ),\n",
    "#  CONSTRAINT FK_4 FOREIGN KEY ( time_key) REFERENCES ecomdb.time_dim ( time_key ),\n",
    "#  CONSTRAINT FK_5 FOREIGN KEY ( store_key) REFERENCES ecomdb.store_dim ( store_key )\n",
    "# );\n",
    "\n",
    "# CREATE INDEX FK_1 ON ecomdb.Fact_table\n",
    "# (\n",
    "#  payment_key\n",
    "# );\n",
    "\n",
    "# CREATE INDEX FK_2 ON ecomdb.Fact_table\n",
    "# (\n",
    "#  item_key\n",
    "# );\n",
    "\n",
    "# CREATE INDEX FK_3 ON ecomdb.Fact_table\n",
    "# (\n",
    "#  coustomer_key\n",
    "# );\n",
    "\n",
    "# CREATE INDEX FK_4 ON ecomdb.Fact_table\n",
    "# (\n",
    "#  time_key\n",
    "# );\n",
    "\n",
    "# CREATE INDEX FK_5 ON ecomdb.Fact_table\n",
    "# (\n",
    "#  store_key\n",
    "# );\n",
    "\n",
    "\n"
   ]
  },
  {
   "cell_type": "code",
   "execution_count": null,
   "id": "0d5ebbb1",
   "metadata": {},
   "outputs": [],
   "source": []
  },
  {
   "cell_type": "code",
   "execution_count": null,
   "id": "c63421ee",
   "metadata": {},
   "outputs": [],
   "source": []
  }
 ],
 "metadata": {
  "kernelspec": {
   "display_name": "Python 3 (ipykernel)",
   "language": "python",
   "name": "python3"
  },
  "language_info": {
   "codemirror_mode": {
    "name": "ipython",
    "version": 3
   },
   "file_extension": ".py",
   "mimetype": "text/x-python",
   "name": "python",
   "nbconvert_exporter": "python",
   "pygments_lexer": "ipython3",
   "version": "3.9.12"
  }
 },
 "nbformat": 4,
 "nbformat_minor": 5
}
